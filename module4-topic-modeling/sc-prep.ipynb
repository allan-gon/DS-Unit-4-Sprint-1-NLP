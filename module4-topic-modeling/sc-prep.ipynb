{
 "cells": [
  {
   "cell_type": "code",
   "execution_count": 27,
   "metadata": {},
   "outputs": [],
   "source": [
    "import pandas as pd\n",
    "import spacy\n",
    "\n",
    "from sklearn.feature_extraction.text import TfidfVectorizer\n",
    "from sklearn.neighbors import NearestNeighbors"
   ]
  },
  {
   "cell_type": "code",
   "execution_count": 3,
   "metadata": {},
   "outputs": [],
   "source": [
    "# LIMITS TO FIRST 1000 ROWS FOR DEMONSTRATION PURPOSES\n",
    "df = pd.read_csv('betterreads.csv', delimiter='\\t', nrows=1000)\n"
   ]
  },
  {
   "cell_type": "code",
   "execution_count": 6,
   "metadata": {},
   "outputs": [],
   "source": [
    "# LOAD SPACY\n",
    "nlp = spacy.load('en_core_web_md')"
   ]
  },
  {
   "cell_type": "code",
   "execution_count": 7,
   "metadata": {},
   "outputs": [],
   "source": [
    "# ADDING CUSTOM STOP WORDS\n",
    "STOP_WORDS = ['book']\n",
    "STOP_WORDS = nlp.Defaults.stop_words.union(STOP_WORDS)"
   ]
  },
  {
   "cell_type": "code",
   "execution_count": 9,
   "metadata": {},
   "outputs": [],
   "source": [
    "def tokenize(text):\n",
    "    '''\n",
    "    Input: String\n",
    "    Output: list of tokens\n",
    "    '''\n",
    "\n",
    "    doc = nlp(text)\n",
    "    tokens = []\n",
    "    for token in doc:\n",
    "        if ((token.text.lower() not in STOP_WORDS) & \n",
    "            (token.is_punct == False) & \n",
    "            (token.pos_ != 'PRON') & \n",
    "            (token.is_alpha == True)):\n",
    "            tokens.append(token.lemma_.lower())\n",
    "    return tokens"
   ]
  },
  {
   "cell_type": "code",
   "execution_count": 10,
   "metadata": {},
   "outputs": [],
   "source": [
    "# THIS SHOWS OFF OUR `TOKENIZE` FUNCTION\n",
    "# BUT PROBABLY BETTER TO CALL IT WITHIN TFIDF BELOW\n",
    "df['tokens'] = df['description'].apply(tokenize)"
   ]
  },
  {
   "cell_type": "code",
   "execution_count": 11,
   "metadata": {},
   "outputs": [
    {
     "data": {
      "text/html": [
       "<div>\n",
       "<style scoped>\n",
       "    .dataframe tbody tr th:only-of-type {\n",
       "        vertical-align: middle;\n",
       "    }\n",
       "\n",
       "    .dataframe tbody tr th {\n",
       "        vertical-align: top;\n",
       "    }\n",
       "\n",
       "    .dataframe thead th {\n",
       "        text-align: right;\n",
       "    }\n",
       "</style>\n",
       "<table border=\"1\" class=\"dataframe\">\n",
       "  <thead>\n",
       "    <tr style=\"text-align: right;\">\n",
       "      <th></th>\n",
       "      <th>title</th>\n",
       "      <th>authors_name</th>\n",
       "      <th>description</th>\n",
       "      <th>average_rating</th>\n",
       "      <th>tokens</th>\n",
       "    </tr>\n",
       "  </thead>\n",
       "  <tbody>\n",
       "    <tr>\n",
       "      <th>0</th>\n",
       "      <td>On the Jellicoe Road</td>\n",
       "      <td>Melina Marchetta</td>\n",
       "      <td>I'm dreaming of the boy in the tree. I tell hi...</td>\n",
       "      <td>4.14</td>\n",
       "      <td>[dream, boy, tree, tell, story, jellicoe, scho...</td>\n",
       "    </tr>\n",
       "    <tr>\n",
       "      <th>1</th>\n",
       "      <td>I've Got You Under My Skin (Under Suspicion, #1)</td>\n",
       "      <td>Alafair Burke</td>\n",
       "      <td>When Laurie Moran's husband was brutally murde...</td>\n",
       "      <td>3.75</td>\n",
       "      <td>[laurie, moran, husband, brutally, murder, yea...</td>\n",
       "    </tr>\n",
       "    <tr>\n",
       "      <th>2</th>\n",
       "      <td>The Orange Girl</td>\n",
       "      <td>James Anderson</td>\n",
       "      <td>'My father died eleven years ago. I was only f...</td>\n",
       "      <td>3.91</td>\n",
       "      <td>[father, die, year, ago, think, hear, write, g...</td>\n",
       "    </tr>\n",
       "    <tr>\n",
       "      <th>3</th>\n",
       "      <td>The Informers</td>\n",
       "      <td>Bret Easton Ellis</td>\n",
       "      <td>Set in Los Angeles, in the recent past. The bi...</td>\n",
       "      <td>3.39</td>\n",
       "      <td>[set, los, angeles, recent, past, birthplace, ...</td>\n",
       "    </tr>\n",
       "    <tr>\n",
       "      <th>4</th>\n",
       "      <td>A Year Down Yonder (A Long Way from Chicago, #2)</td>\n",
       "      <td>Richard Peck</td>\n",
       "      <td>Mary Alice remembers childhood summers packed ...</td>\n",
       "      <td>4.10</td>\n",
       "      <td>[mary, alice, remember, childhood, summer, pac...</td>\n",
       "    </tr>\n",
       "  </tbody>\n",
       "</table>\n",
       "</div>"
      ],
      "text/plain": [
       "                                              title       authors_name  \\\n",
       "0                              On the Jellicoe Road   Melina Marchetta   \n",
       "1  I've Got You Under My Skin (Under Suspicion, #1)      Alafair Burke   \n",
       "2                                   The Orange Girl     James Anderson   \n",
       "3                                     The Informers  Bret Easton Ellis   \n",
       "4  A Year Down Yonder (A Long Way from Chicago, #2)       Richard Peck   \n",
       "\n",
       "                                         description  average_rating  \\\n",
       "0  I'm dreaming of the boy in the tree. I tell hi...            4.14   \n",
       "1  When Laurie Moran's husband was brutally murde...            3.75   \n",
       "2  'My father died eleven years ago. I was only f...            3.91   \n",
       "3  Set in Los Angeles, in the recent past. The bi...            3.39   \n",
       "4  Mary Alice remembers childhood summers packed ...            4.10   \n",
       "\n",
       "                                              tokens  \n",
       "0  [dream, boy, tree, tell, story, jellicoe, scho...  \n",
       "1  [laurie, moran, husband, brutally, murder, yea...  \n",
       "2  [father, die, year, ago, think, hear, write, g...  \n",
       "3  [set, los, angeles, recent, past, birthplace, ...  \n",
       "4  [mary, alice, remember, childhood, summer, pac...  "
      ]
     },
     "execution_count": 11,
     "metadata": {},
     "output_type": "execute_result"
    }
   ],
   "source": [
    "df.head()"
   ]
  },
  {
   "cell_type": "code",
   "execution_count": 12,
   "metadata": {},
   "outputs": [],
   "source": [
    "# NOT NEEDED AS TfidfVectorizer can apply our custom tokenize function\n",
    "# df['tokens_string'] = df['tokens'].apply(lambda x: ' '.join(x))"
   ]
  },
  {
   "cell_type": "code",
   "execution_count": 16,
   "metadata": {},
   "outputs": [],
   "source": [
    "tfidf = TfidfVectorizer(tokenizer=tokenize)"
   ]
  },
  {
   "cell_type": "code",
   "execution_count": 19,
   "metadata": {},
   "outputs": [],
   "source": [
    "dtm = tfidf.fit_transform(df['description'])"
   ]
  },
  {
   "cell_type": "code",
   "execution_count": 23,
   "metadata": {},
   "outputs": [],
   "source": [
    "dtm = pd.DataFrame(dtm.todense(), columns=tfidf.get_feature_names())"
   ]
  },
  {
   "cell_type": "code",
   "execution_count": 26,
   "metadata": {},
   "outputs": [
    {
     "data": {
      "text/html": [
       "<div>\n",
       "<style scoped>\n",
       "    .dataframe tbody tr th:only-of-type {\n",
       "        vertical-align: middle;\n",
       "    }\n",
       "\n",
       "    .dataframe tbody tr th {\n",
       "        vertical-align: top;\n",
       "    }\n",
       "\n",
       "    .dataframe thead th {\n",
       "        text-align: right;\n",
       "    }\n",
       "</style>\n",
       "<table border=\"1\" class=\"dataframe\">\n",
       "  <thead>\n",
       "    <tr style=\"text-align: right;\">\n",
       "      <th></th>\n",
       "      <th>-pron-</th>\n",
       "      <th>aaa</th>\n",
       "      <th>aaron</th>\n",
       "      <th>ab</th>\n",
       "      <th>abandon</th>\n",
       "      <th>abandonment</th>\n",
       "      <th>abandonne</th>\n",
       "      <th>abbey</th>\n",
       "      <th>abby</th>\n",
       "      <th>abduct</th>\n",
       "      <th>...</th>\n",
       "      <th>ﻭﺫﻛﺮﻳﺎﺕ</th>\n",
       "      <th>ﻭﻟﻜﻨﻬﺎ</th>\n",
       "      <th>ﻭﻫﻨﺎ</th>\n",
       "      <th>ﻭﻳﺬﻫﺐ</th>\n",
       "      <th>ﻳﺄﺳﻬﺎ</th>\n",
       "      <th>ﻳﺘﺒﺨﺮ</th>\n",
       "      <th>ﻳﺼﻒ</th>\n",
       "      <th>ﻳﺼﻴﺐ</th>\n",
       "      <th>ﻳﻜﻮﻥ</th>\n",
       "      <th>ﻻ</th>\n",
       "    </tr>\n",
       "  </thead>\n",
       "  <tbody>\n",
       "    <tr>\n",
       "      <th>0</th>\n",
       "      <td>0.0</td>\n",
       "      <td>0.0</td>\n",
       "      <td>0.0</td>\n",
       "      <td>0.0</td>\n",
       "      <td>0.075305</td>\n",
       "      <td>0.0</td>\n",
       "      <td>0.0</td>\n",
       "      <td>0.0</td>\n",
       "      <td>0.0</td>\n",
       "      <td>0.0</td>\n",
       "      <td>...</td>\n",
       "      <td>0.0</td>\n",
       "      <td>0.0</td>\n",
       "      <td>0.0</td>\n",
       "      <td>0.0</td>\n",
       "      <td>0.0</td>\n",
       "      <td>0.0</td>\n",
       "      <td>0.0</td>\n",
       "      <td>0.0</td>\n",
       "      <td>0.0</td>\n",
       "      <td>0.0</td>\n",
       "    </tr>\n",
       "    <tr>\n",
       "      <th>1</th>\n",
       "      <td>0.0</td>\n",
       "      <td>0.0</td>\n",
       "      <td>0.0</td>\n",
       "      <td>0.0</td>\n",
       "      <td>0.000000</td>\n",
       "      <td>0.0</td>\n",
       "      <td>0.0</td>\n",
       "      <td>0.0</td>\n",
       "      <td>0.0</td>\n",
       "      <td>0.0</td>\n",
       "      <td>...</td>\n",
       "      <td>0.0</td>\n",
       "      <td>0.0</td>\n",
       "      <td>0.0</td>\n",
       "      <td>0.0</td>\n",
       "      <td>0.0</td>\n",
       "      <td>0.0</td>\n",
       "      <td>0.0</td>\n",
       "      <td>0.0</td>\n",
       "      <td>0.0</td>\n",
       "      <td>0.0</td>\n",
       "    </tr>\n",
       "    <tr>\n",
       "      <th>2</th>\n",
       "      <td>0.0</td>\n",
       "      <td>0.0</td>\n",
       "      <td>0.0</td>\n",
       "      <td>0.0</td>\n",
       "      <td>0.000000</td>\n",
       "      <td>0.0</td>\n",
       "      <td>0.0</td>\n",
       "      <td>0.0</td>\n",
       "      <td>0.0</td>\n",
       "      <td>0.0</td>\n",
       "      <td>...</td>\n",
       "      <td>0.0</td>\n",
       "      <td>0.0</td>\n",
       "      <td>0.0</td>\n",
       "      <td>0.0</td>\n",
       "      <td>0.0</td>\n",
       "      <td>0.0</td>\n",
       "      <td>0.0</td>\n",
       "      <td>0.0</td>\n",
       "      <td>0.0</td>\n",
       "      <td>0.0</td>\n",
       "    </tr>\n",
       "    <tr>\n",
       "      <th>3</th>\n",
       "      <td>0.0</td>\n",
       "      <td>0.0</td>\n",
       "      <td>0.0</td>\n",
       "      <td>0.0</td>\n",
       "      <td>0.000000</td>\n",
       "      <td>0.0</td>\n",
       "      <td>0.0</td>\n",
       "      <td>0.0</td>\n",
       "      <td>0.0</td>\n",
       "      <td>0.0</td>\n",
       "      <td>...</td>\n",
       "      <td>0.0</td>\n",
       "      <td>0.0</td>\n",
       "      <td>0.0</td>\n",
       "      <td>0.0</td>\n",
       "      <td>0.0</td>\n",
       "      <td>0.0</td>\n",
       "      <td>0.0</td>\n",
       "      <td>0.0</td>\n",
       "      <td>0.0</td>\n",
       "      <td>0.0</td>\n",
       "    </tr>\n",
       "    <tr>\n",
       "      <th>4</th>\n",
       "      <td>0.0</td>\n",
       "      <td>0.0</td>\n",
       "      <td>0.0</td>\n",
       "      <td>0.0</td>\n",
       "      <td>0.000000</td>\n",
       "      <td>0.0</td>\n",
       "      <td>0.0</td>\n",
       "      <td>0.0</td>\n",
       "      <td>0.0</td>\n",
       "      <td>0.0</td>\n",
       "      <td>...</td>\n",
       "      <td>0.0</td>\n",
       "      <td>0.0</td>\n",
       "      <td>0.0</td>\n",
       "      <td>0.0</td>\n",
       "      <td>0.0</td>\n",
       "      <td>0.0</td>\n",
       "      <td>0.0</td>\n",
       "      <td>0.0</td>\n",
       "      <td>0.0</td>\n",
       "      <td>0.0</td>\n",
       "    </tr>\n",
       "  </tbody>\n",
       "</table>\n",
       "<p>5 rows × 14782 columns</p>\n",
       "</div>"
      ],
      "text/plain": [
       "   -pron-  aaa  aaron   ab   abandon  abandonment  abandonne  abbey  abby  \\\n",
       "0     0.0  0.0    0.0  0.0  0.075305          0.0        0.0    0.0   0.0   \n",
       "1     0.0  0.0    0.0  0.0  0.000000          0.0        0.0    0.0   0.0   \n",
       "2     0.0  0.0    0.0  0.0  0.000000          0.0        0.0    0.0   0.0   \n",
       "3     0.0  0.0    0.0  0.0  0.000000          0.0        0.0    0.0   0.0   \n",
       "4     0.0  0.0    0.0  0.0  0.000000          0.0        0.0    0.0   0.0   \n",
       "\n",
       "   abduct  ...  ﻭﺫﻛﺮﻳﺎﺕ  ﻭﻟﻜﻨﻬﺎ  ﻭﻫﻨﺎ  ﻭﻳﺬﻫﺐ  ﻳﺄﺳﻬﺎ  ﻳﺘﺒﺨﺮ  ﻳﺼﻒ  ﻳﺼﻴﺐ  ﻳﻜﻮﻥ  \\\n",
       "0     0.0  ...      0.0     0.0   0.0    0.0    0.0    0.0  0.0   0.0   0.0   \n",
       "1     0.0  ...      0.0     0.0   0.0    0.0    0.0    0.0  0.0   0.0   0.0   \n",
       "2     0.0  ...      0.0     0.0   0.0    0.0    0.0    0.0  0.0   0.0   0.0   \n",
       "3     0.0  ...      0.0     0.0   0.0    0.0    0.0    0.0  0.0   0.0   0.0   \n",
       "4     0.0  ...      0.0     0.0   0.0    0.0    0.0    0.0  0.0   0.0   0.0   \n",
       "\n",
       "     ﻻ  \n",
       "0  0.0  \n",
       "1  0.0  \n",
       "2  0.0  \n",
       "3  0.0  \n",
       "4  0.0  \n",
       "\n",
       "[5 rows x 14782 columns]"
      ]
     },
     "execution_count": 26,
     "metadata": {},
     "output_type": "execute_result"
    }
   ],
   "source": [
    "dtm.head()"
   ]
  },
  {
   "cell_type": "code",
   "execution_count": 28,
   "metadata": {},
   "outputs": [
    {
     "data": {
      "text/plain": [
       "NearestNeighbors(algorithm='auto', leaf_size=30, metric='minkowski',\n",
       "                 metric_params=None, n_jobs=None, n_neighbors=10, p=2,\n",
       "                 radius=1.0)"
      ]
     },
     "execution_count": 28,
     "metadata": {},
     "output_type": "execute_result"
    }
   ],
   "source": [
    "nn = NearestNeighbors(n_neighbors=10, algorithm='auto')\n",
    "nn.fit(dtm)"
   ]
  },
  {
   "cell_type": "code",
   "execution_count": 57,
   "metadata": {},
   "outputs": [],
   "source": [
    "# OUR SAMPLE TEXT NEEDS TO BE INSIDE A LIST\n",
    "nineteen_eighty_four = ['''\n",
    "Ender Wiggin, the third in a family of child geniuses, is selected by international military forces to save the world from destruction. Before being chosen Ender wears a unique monitor that allows the heads of the military to see things as Ender does. Ender's brother Peter and his sister Valentine also wore this monitor, although neither was selected, nor did they have it for as long as Ender, and Peter will never forgive Ender for this. Peter hates Ender, and even when the monitor is taken out it does nothing to decrease Peter's anger. The same is true of Ender's schoolmates, and he is forced into brutally beating the leader of a gang of bullies in order to protect himself. Although Valentine tries to protect Ender from Peter, he is only saved from his brother when Colonel Graff of the International Fleet comes to take Ender away to Battle School. Ender leaves behind Valentine, who loves him, in order to help save the world from the buggers.\n",
    "''']"
   ]
  },
  {
   "cell_type": "code",
   "execution_count": 58,
   "metadata": {},
   "outputs": [],
   "source": [
    "vectors = tfidf.transform(nineteen_eighty_four)"
   ]
  },
  {
   "cell_type": "code",
   "execution_count": 59,
   "metadata": {},
   "outputs": [
    {
     "data": {
      "text/plain": [
       "(1, 14782)"
      ]
     },
     "execution_count": 59,
     "metadata": {},
     "output_type": "execute_result"
    }
   ],
   "source": [
    "# WHAT OUR SAMPLE TEXT LOOKS LIKE AFTER THE VECTORIZER\n",
    "vectors.todense().shape"
   ]
  },
  {
   "cell_type": "code",
   "execution_count": 60,
   "metadata": {},
   "outputs": [],
   "source": [
    "nearest = nn.kneighbors(vectors.todense())"
   ]
  },
  {
   "cell_type": "code",
   "execution_count": 61,
   "metadata": {},
   "outputs": [
    {
     "data": {
      "text/plain": [
       "(array([[1.2172248 , 1.29650031, 1.31193041, 1.33254164, 1.3368356 ,\n",
       "         1.34584546, 1.35588396, 1.35592409, 1.36972344, 1.37932265]]),\n",
       " array([[763, 144,   7, 134, 348, 255,  54, 195, 736, 524]]))"
      ]
     },
     "execution_count": 61,
     "metadata": {},
     "output_type": "execute_result"
    }
   ],
   "source": [
    "# SIMPLE RECOMMENDATIONS: THE TEN \"NEAREST\" NEIGHBORS\n",
    "nearest"
   ]
  },
  {
   "cell_type": "code",
   "execution_count": 62,
   "metadata": {},
   "outputs": [
    {
     "data": {
      "text/plain": [
       "array([763, 144,   7, 134, 348, 255,  54, 195, 736, 524])"
      ]
     },
     "execution_count": 62,
     "metadata": {},
     "output_type": "execute_result"
    }
   ],
   "source": [
    "# THIS IS THE INDEX IN THE DATAFRAME, SO IT IS WHAT WE ITERATE OVER\n",
    "nearest[1][0]"
   ]
  },
  {
   "cell_type": "code",
   "execution_count": 63,
   "metadata": {},
   "outputs": [
    {
     "name": "stdout",
     "output_type": "stream",
     "text": [
      "Ender's Shadow (Ender's Shadow, #1)\n",
      "Welcome to Battleschool.Growing up is never easy. But try living on the mean streets as a child begging for food and fighting like a dog with ruthless gangs of starving kids who wouldn't hesitate to pound your skull into pulp for a scrap of apple. If Bean has learned anything on the streets, it's how to survive. And not with fists—He is way too small for that—But with brains.Bean is a genius with a magician's ability to zero in on his enemy and exploit his weakness.What better quality for a future general to lead the Earth in a final climactic battle against a hostile alien race, known as Buggers. At Battleschool Bean meets and befriends another future commander—Ender Wiggins—perhaps his only true rival.Only one problem: for Bean and Ender, the future is now.\n",
      "\n",
      "\n",
      "\n",
      "Peter and the Shadow Thieves (Peter and the Starcatchers, #2)\n",
      "In this riveting and adventure-packed follow-up to the award-winning New York Times bestseller Peter and the Starcatchers, Peter leaves the relative safety of Mollusk Island - along with his trusted companion, Tinker Bell - for the dark and dangerous streets of London. On a difficult journey across the sea, he and Tink discover the mysterious and deadly Lord Ombra, who is intent on recovering the missing starstuff - celestial dust that contains unimagined powers. In London, Peter attempts to track down the indomitable Molly, hoping that together they can combat Ombra's determined forces. But London is not Mollusk Island; Peter is not the boy he used to be; and Lord Ombra - the Shadow Master - is unlike anything Peter, or the world, has ever seen.Dave Barry and Ridley Pearson have done it again - written a compulsively readable, magical, impossible-to-put-down tale that will delight readers of all ages.\n",
      "\n",
      "\n",
      "\n",
      "Peter Pan\n",
      "Peter Pan, the book based on J.M. Barrie's famous play, is filled with unforgettable characters: Peter Pan, the boy who would not grow up; the fairy, Tinker Bell; the evil pirate, Captain Hook; and the three children--Wendy, John, and Michael--who fly off with Peter Pan to Neverland, where they meet Indians and pirates and a crocodile that ticks. Renowned children's-book artist Michael Hague has brought the amazing adventures of Peter Pan to life. His beautiful illustrations capture the wild, seductive power of this classic book. This newly designed edition will be enjoyed by fans young and old alike.\n",
      "\n",
      "\n",
      "\n",
      "Golden Son (Red Rising, #2)\n",
      "With shades of The Hunger Games, Ender’s Game, and Game of Thrones, debut author Pierce Brown’s genre-defying epic Red Rising hit the ground running and wasted no time becoming a sensation.Golden Son continues the stunning saga of Darrow, a rebel forged by tragedy, battling to lead his oppressed people to freedom from the overlords of a brutal elitist future built on lies. Now fully embedded among the Gold ruling class, Darrow continues his work to bring down Society from within.A life-or-death tale of vengeance with an unforgettable hero at its heart, Golden Son guarantees Pierce Brown’s continuing status as one of fiction’s most exciting new voices.\n",
      "\n",
      "\n",
      "\n",
      "The Bookman’s Tale\n",
      "A mysterious portrait ignites an antiquarian bookseller’s search through time and the works of Shakespeare for his lost love.Hay-on-Wye, 1995. Peter Byerly isn’t sure what drew him into this particular bookshop. Nine months earlier, the death of his beloved wife, Amanda, had left him shattered. The young antiquarian bookseller relocated from North Carolina to the English countryside, hoping to rediscover the joy he once took in collecting and restoring rare books. But upon opening an eighteenth-century study of Shakespeare forgeries, Peter is shocked when a portrait of Amanda tumbles out of its pages. Of course, it isn’t really her. The watercolor is clearly Victorian. Yet the resemblance is uncanny, and Peter becomes obsessed with learning the picture’s origins.As he follows the trail back first to the Victorian era and then to Shakespeare’s time, Peter communes with Amanda’s spirit, learns the truth about his own past, and discovers a book that might definitively prove Shakespeare was, indeed, the author of all his plays.Guaranteed to capture the hearts of everyone who truly loves books, The Bookman’s Tale is a former bookseller’s sparkling novel and a delightful exploration of one of literature’s most tantalizing mysteries, with echoes of Shadow of the Wind and A.S. Byatt’s Possession.\n",
      "\n",
      "\n",
      "\n",
      "Starters (Starters, #1)\n",
      "HER WORLD IS CHANGED FOREVERCallie lost her parents when the Spore Wars wiped out everyone between the ages of twenty and sixty. She and her little brother, Tyler, go on the run, living as squatters with their friend Michael and fighting off renegades who would kill them for a cookie. Callie's only hope is Prime Destinations, a disturbing place in Beverly Hills run by a mysterious figure known as the Old Man.He hires teens to rent their bodies to Enders—seniors who want to be young again. Callie, desperate for the money that will keep her, Tyler, and Michael alive, agrees to be a donor. But the neurochip they place in Callie's head malfunctions and she wakes up in the life of her renter, living in her mansion, driving her cars, and going out with a senator's grandson. It feels almost like a fairy tale, until Callie discovers that her renter intends to do more than party—and that Prime Destinations' plans are more evil than Callie could ever have imagined. . . .\n",
      "\n",
      "\n",
      "\n",
      "Gut: The Inside Story of Our Body’s Most Underrated Organ\n",
      "A cheeky up-close and personal guide to the secrets and science of our digestive system. For too long, the gut has been the body’s most ignored and least appreciated organ, but it turns out that it’s responsible for more than just dirty work: our gut is at the core of who we are. Gut: The Inside Story of our Body's Most Underrated Organ gives the alimentary canal its long-overdue moment in the spotlight. With quirky charm, rising science star Giulia Enders explains the gut’s magic, answering questions like: Why does acid reflux happen? What’s really up with gluten and lactose intolerance? How does the gut affect obesity and mood? Communication between the gut and the brain is one of the fastest-growing areas of medical research—on par with stem-cell research. Our gut reactions, we learn, are intimately connected with our physical and mental well-being. Aided with cheerful illustrations by Enders’s sister Jill, this beguiling manifesto will make you finally listen to those butterflies in your stomach: they’re trying to tell you something important.\n",
      "\n",
      "\n",
      "\n",
      "Whispers Under Ground (Peter Grant, #3)\n",
      "A WHOLE NEW REASON TO MIND THE GAP It begins with a dead body at the far end of Baker Street tube station, all that remains of American exchange student James Gallagher—and the victim’s wealthy, politically powerful family is understandably eager to get to the bottom of the gruesome murder. The trouble is, the bottom—if it exists at all—is deeper and more unnatural than anyone suspects . . . except, that is, for London constable and sorcerer’s apprentice Peter Grant. With Inspector Nightingale, the last registered wizard in England, tied up in the hunt for the rogue magician known as “the Faceless Man,” it’s up to Peter to plumb the haunted depths of the oldest, largest, and—as of now—deadliest subway system in the world.At least he won’t be alone. No, the FBI has sent over a crack agent to help. She’s young, ambitious, beautiful . . . and a born-again Christian apt to view any magic as the work of the devil. Oh yeah—that’s going to go well.\n",
      "\n",
      "\n",
      "\n",
      "Catherine the Great: Portrait of a Woman\n",
      "Pulitzer Prize winner Massie offers the tale of a princess who went to Russia at 14 and became one of the most powerful women in history. Born into minor German nobility, she transformed herself into an empress by sheer determination. Possessing a brilliant, curious mind, she devoured the works of Enlightenment philosophers, and reaching the throne, tried using their principles to rule the vast, backward empire. She knew or corresponded with notable figures of her time: Voltaire, Diderot, Frederick the Great, Maria Theresa of Austria, Marie Antoinette & John Paul Jones. Wanting to be the “benevolent despot” Montesquieu idealized, she contended with the deeply ingrained realities of Russian life, including serfdom. She persevered, and for 34 years the government, foreign policy, cultural development and welfare of the Russian people were in her hands. She dealt with domestic rebellion, wars & the tides of political change and violence inspired by the French Revolution. Her reputation depended on the perspective of the speaker. She was praised by Voltaire as like the classical philosophers. She was condemned by enemies, mostly foreign, as “the Messalina of the north.” Her family, friends, ministers, generals, lovers and enemies are vividly described. These included her ambitious, scheming mother; her weak, bullying husband, Peter (who left her sexually untouched for nine years after their marriage); her unhappy son & heir, Paul; her beloved grandchildren; and her favorites — the young men from whom she sought companionship and the recapture of youth as well as sex. Here, too, is Gregory Potemkin, her most significant lover & possible husband, with whom she shared a correspondence of love & separation, followed by 17 years of unparalleled mutual achievement. All the qualities that Massie brought to Nicholas & Alexandra and Peter the Great are present: historical accuracy, deep understanding, felicity of style, mastery of detail, ability to shatter myth & a genius for finding and expressing a human drama.\n",
      "\n",
      "\n",
      "\n",
      "The Last Star (The 5th Wave, #3)\n",
      "The enemy is Other. The enemy is us.They’re down here, they’re up there, they’re nowhere. They want the Earth, they want us to have it. They came to wipe us out, they came to save us.But beneath these riddles lies one truth: Cassie has been betrayed. So has Ringer. Zombie. Nugget. And all 7.5 billion people who used to live on our planet. Betrayed first by the Others, and now by ourselves.In these last days, Earth’s remaining survivors will need to decide what’s more important: saving themselves…or saving what makes us human.\n",
      "\n",
      "\n",
      "\n"
     ]
    }
   ],
   "source": [
    "for book_idx in nearest[1][0]:\n",
    "    print(f\"{df['title'][book_idx]}\\n{df['description'][book_idx]}\\n\\n\\n\")"
   ]
  }
 ],
 "metadata": {
  "kernelspec": {
   "display_name": "Python 3",
   "language": "python",
   "name": "python3"
  },
  "language_info": {
   "codemirror_mode": {
    "name": "ipython",
    "version": 3
   },
   "file_extension": ".py",
   "mimetype": "text/x-python",
   "name": "python",
   "nbconvert_exporter": "python",
   "pygments_lexer": "ipython3",
   "version": "3.7.0"
  }
 },
 "nbformat": 4,
 "nbformat_minor": 4
}
